{
 "cells": [
  {
   "cell_type": "code",
   "execution_count": 2,
   "metadata": {
    "collapsed": true
   },
   "outputs": [],
   "source": [
    "# Imports\n",
    "import urllib2 as urllib\n",
    "import json\n",
    "import pandas\n",
    "import datetime"
   ]
  },
  {
   "cell_type": "code",
   "execution_count": 3,
   "metadata": {
    "collapsed": true
   },
   "outputs": [],
   "source": [
    "# Download Data\n",
    "oauth_api_key = '14ce3b2e1d6a7a361a167f2d27c7d69209e39df4'\n",
    "guid = 'INFRA-31368'\n",
    "\n",
    "url = 'http://miraflores.cloudapi.junar.com/datastreams/invoke/{0:}?auth_key={1:}&output=json_array'\n",
    "url = url.format(guid, oauth_api_key)\n",
    "\n",
    "request = urllib.urlopen(url)\n",
    "\n",
    "textResponse = request.read()\n",
    "\n",
    "jsonResponse = json.loads(textResponse)\n",
    "\n",
    "data = jsonResponse['result']\n",
    "\n",
    "keys = []\n",
    "\n",
    "dictData = []\n",
    "\n",
    "for i, row in enumerate(data):\n",
    "    if i == 0:\n",
    "        keys = [item.replace('-', '_') for item in row]\n",
    "\n",
    "    else:\n",
    "        dictData.append(dict(zip(keys, row)))"
   ]
  },
  {
   "cell_type": "code",
   "execution_count": 52,
   "metadata": {
    "collapsed": false
   },
   "outputs": [
    {
     "data": {
      "text/plain": [
       "[<matplotlib.lines.Line2D at 0x7fe2a9eb4390>]"
      ]
     },
     "execution_count": 52,
     "metadata": {},
     "output_type": "execute_result"
    },
    {
     "data": {
      "image/png": "[encoded data removed]",
      "text/plain": [
       "<matplotlib.figure.Figure at 0x7fe2a9d87c10>"
      ]
     },
     "metadata": {},
     "output_type": "display_data"
    }
   ],
   "source": [
    "# Making timeseries\n",
    "dates = [item[u'FECHA'] + ' ' + item[u'HORA'] for item in dictData]\n",
    "\n",
    "datesAux = []\n",
    "\n",
    "for i, item in enumerate(dates):\n",
    "    try:\n",
    "        datesAux.append(datetime.datetime.strptime(item, '%d/%m/%Y %H:%M'))\n",
    "    except:\n",
    "        pass\n",
    "\n",
    "dates = datesAux\n",
    "\n",
    "\n",
    "cumF = 0\n",
    "cumT = ''\n",
    "\n",
    "datesAux = []\n",
    "frecuency = []\n",
    "\n",
    "def cumulativeFrequency(t):\n",
    "    global cumF\n",
    "    global cumT\n",
    "    \n",
    "    if cumT != t.replace(minute=0):\n",
    "        if cumT != '':\n",
    "            datesAux.append(cumT)\n",
    "            frecuency.append(cumF)\n",
    "        \n",
    "        cumT = t.replace(minute=0)\n",
    "        cumF = 1\n",
    "    else:\n",
    "        cumF = cumF + 1\n",
    "\n",
    "filter(cumulativeFrequency, dates)\n",
    "\n",
    "\n",
    "rawTimeSeries = pandas.Series([1]*len(dates), index=dates)\n",
    "\n",
    "dates = datesAux \n",
    "\n",
    "timeSeries = pandas.Series(frecuency, index=dates)\n",
    "\n",
    "\n",
    "timeSeries = timeSeries.asfreq('H')\n",
    "\n",
    "plot(timeSeries.index, timeSeries.values)"
   ]
  },
  {
   "cell_type": "code",
   "execution_count": 51,
   "metadata": {
    "collapsed": false
   },
   "outputs": [
    {
     "data": {
      "text/plain": [
       "[<matplotlib.lines.Line2D at 0x7fe2a9d64d10>]"
      ]
     },
     "execution_count": 51,
     "metadata": {},
     "output_type": "execute_result"
    },
    {
     "data": {
      "image/png": "[encoded data removed]",
      "text/plain": [
       "<matplotlib.figure.Figure at 0x7fe2a9e8dc10>"
      ]
     },
     "metadata": {},
     "output_type": "display_data"
    }
   ],
   "source": [
    "plot(timeSeries.index, timeSeries.values)"
   ]
  },
  {
   "cell_type": "code",
   "execution_count": 8,
   "metadata": {
    "collapsed": false
   },
   "outputs": [
    {
     "data": {
      "text/plain": [
       "2014-01-16 15:54:00    1\n",
       "2014-01-16 17:23:00    1\n",
       "2014-01-16 17:37:00    1\n",
       "2014-01-16 18:58:00    1\n",
       "2014-01-17 17:22:00    1\n",
       "2014-01-24 08:05:00    1\n",
       "2014-01-24 12:23:00    1\n",
       "2014-01-27 18:57:00    1\n",
       "2014-01-27 19:19:00    1\n",
       "2014-01-28 20:47:00    1\n",
       "2014-01-30 19:52:00    1\n",
       "2014-01-30 20:10:00    1\n",
       "2014-01-30 20:14:00    1\n",
       "2014-02-03 08:11:00    1\n",
       "2014-02-03 08:18:00    1\n",
       "2014-02-03 08:30:00    1\n",
       "2014-02-03 16:17:00    1\n",
       "2014-02-03 18:25:00    1\n",
       "2014-02-04 08:57:00    1\n",
       "2014-02-04 09:03:00    1\n",
       "2014-02-04 18:33:00    1\n",
       "2014-02-04 18:39:00    1\n",
       "2014-02-04 19:53:00    1\n",
       "2014-02-04 19:56:00    1\n",
       "2014-02-05 08:15:00    1\n",
       "2014-02-05 09:50:00    1\n",
       "2014-02-05 12:11:00    1\n",
       "2014-02-05 12:22:00    1\n",
       "2014-02-05 17:05:00    1\n",
       "2014-02-05 17:10:00    1\n",
       "                      ..\n",
       "2014-12-29 11:29:00    1\n",
       "2014-12-29 11:42:00    1\n",
       "2014-12-29 11:50:00    1\n",
       "2014-12-29 12:31:00    1\n",
       "2014-12-29 12:36:00    1\n",
       "2014-12-29 12:42:00    1\n",
       "2014-12-29 12:56:00    1\n",
       "2014-12-29 13:11:00    1\n",
       "2014-12-29 16:15:00    1\n",
       "2014-12-29 16:27:00    1\n",
       "2014-12-29 16:37:00    1\n",
       "2014-12-29 16:43:00    1\n",
       "2014-12-29 16:45:00    1\n",
       "2014-12-29 17:06:00    1\n",
       "2014-12-29 17:50:00    1\n",
       "2014-12-29 17:51:00    1\n",
       "2014-12-29 17:59:00    1\n",
       "2014-12-29 18:24:00    1\n",
       "2014-12-29 18:25:00    1\n",
       "2014-12-29 18:26:00    1\n",
       "2014-12-29 18:27:00    1\n",
       "2014-12-29 18:34:00    1\n",
       "2014-12-29 18:59:00    1\n",
       "2014-12-29 19:12:00    1\n",
       "2014-12-29 19:31:00    1\n",
       "2014-12-29 20:31:00    1\n",
       "2014-12-29 20:37:00    1\n",
       "2014-12-29 20:45:00    1\n",
       "2014-12-29 20:47:00    1\n",
       "2014-12-30 19:22:00    1\n",
       "dtype: int64"
      ]
     },
     "execution_count": 8,
     "metadata": {},
     "output_type": "execute_result"
    }
   ],
   "source": [
    "dataSet."
   ]
  },
  {
   "cell_type": "code",
   "execution_count": null,
   "metadata": {
    "collapsed": true
   },
   "outputs": [],
   "source": []
  }
 ],
 "metadata": {
  "kernelspec": {
   "display_name": "Python 2",
   "language": "python",
   "name": "python2"
  },
  "language_info": {
   "codemirror_mode": {
    "name": "ipython",
    "version": 2
   },
   "file_extension": ".py",
   "mimetype": "text/x-python",
   "name": "python",
   "nbconvert_exporter": "python",
   "pygments_lexer": "ipython2",
   "version": "2.7.9"
  }
 },
 "nbformat": 4,
 "nbformat_minor": 0
}
